{
 "cells": [
  {
   "cell_type": "markdown",
   "id": "3d714935",
   "metadata": {},
   "source": [
    "# GWFish Tutorial\n",
    "This is a brief guide on how to use GWFish software"
   ]
  },
  {
   "cell_type": "markdown",
   "id": "7fb8a680",
   "metadata": {},
   "source": [
    "##  Settings for working in Google Colab\n",
    "In Google Colab you do not need to download anything locally, and can work online. The only requirement is to have a Google account. Once you have opened this tutorial in Google Colab, uncomment the following lines:"
   ]
  },
  {
   "cell_type": "code",
   "execution_count": 1,
   "id": "38de449e",
   "metadata": {},
   "outputs": [],
   "source": [
    "#! pip install -q git+https://github.com/janosch314/GWFish.git\n",
    "#! pip install -q lalsuite\n",
    "#! pip install -q corner"
   ]
  },
  {
   "cell_type": "markdown",
   "id": "639a47c3",
   "metadata": {},
   "source": [
    "**Note**: in Google Colab remember to **restart the kernel runtime** after installation: `runtime -> restart session`"
   ]
  },
  {
   "cell_type": "markdown",
   "id": "017565aa",
   "metadata": {},
   "source": [
    "## Settings for working locally with GWFish"
   ]
  },
  {
   "cell_type": "markdown",
   "id": "73abd866",
   "metadata": {},
   "source": [
    "### Install GWFish in a `conda` environment\n",
    "It is advisable to create a `conda` environment where to make the GWFish modules available\n",
    "```\n",
    "conda create --name gwfish_env python=3.9\n",
    "conda activate gwfish_env\n",
    "```\n",
    "To make GWFish modules available from any location in your PC, after clonig the repository\n",
    "```\n",
    "git clone git@github.com:janosch314/GWFish.git\n",
    "```\n",
    "from the folder location, and after activating the `conda` environment, execute the command\n",
    "```\n",
    "pip install .\n",
    "```\n",
    "The following packages need to be installed as well:\n",
    "```\n",
    "pip install lalsuite\n",
    "pip install corner\n",
    "pip install tqdm\n",
    "pip install pandas\n",
    "pip install tables\n",
    "pip install json\n",
    "pip install os\n",
    "pip install sympy\n",
    "```\n",
    "For `numpy` it is preferred to have a version below 2.0; since it is usually automatically installed with the conda environment, the suggestion is to uninstall it if the versione is $\\ge 2$ and downgrade it:\n",
    "```\n",
    "pip uninstall numpy\n",
    "pip install numpy==1.25\n",
    "```"
   ]
  },
  {
   "cell_type": "markdown",
   "id": "06d2ea66",
   "metadata": {},
   "source": [
    "# What is the code about\n",
    "`GWFish` is a Fisher matrix code, useful to calculate the covariance matrix for a gravitational wave (GW) event in a really small amout of computational time (around seconds). Let's take a step back and briefly recap how parameter estimation (PE) is done in the GW field."
   ]
  },
  {
   "cell_type": "markdown",
   "id": "c1d3c965",
   "metadata": {},
   "source": [
    "## Starter: GW data analysis\n",
    "Bayesian gravitational wave data analysis is used to infer the properties of gravitational wave sources and make predictions about their parameters (see below what are in detail the parameters we are talking about). It combines the principles of Bayesian statistics with the analysis of gravitational wave signals detected by ground-based observatories like LIGO and Virgo.\n",
    "\n",
    "The goal of Bayesian gravitational wave data analysis is to extract this information from the noisy gravitational wave signals detected by the observatories:\n",
    "$$s(t) = h_0(t) + n(t)$$\n",
    "where $h_0(t)$ is the true (unknown) signal and $n(t)$ is the detector noise, assumed to be Gaussian and stationary.\n",
    "\n",
    "Mathematically, Bayes' theorem can be expressed as:\n",
    "\n",
    "$$p(\\vec{\\theta}|s) \\propto \\pi(\\vec{\\theta}){\\mathcal{L}}(s|\\vec{\\theta})$$\n",
    "\n",
    "where $p(\\vec{\\theta}|d)$ is the posterior distribution, ${\\mathcal{L}}(d|\\vec{\\theta})$ is the likelihood function, $\\pi(\\vec{\\theta})$ is the prior distribution, and we neglected the evidence or marginal likelihood at the denominator.\n",
    "\n",
    "To perform Bayesian gravitational wave data analysis, we use various techniques such as Markov Chain Monte Carlo (MCMC) sampling and nested sampling. The mostly used software is `bilby`, and typically full Baysian parameter estimation is computationally expensive."
   ]
  },
  {
   "cell_type": "markdown",
   "id": "eadf70e5",
   "metadata": {},
   "source": [
    "## Fisher-matrix approximation\n",
    "\n",
    "The gravitational-wave likelihood is defined as the probability of noise realization:\n",
    "\n",
    "$$ {\\mathcal{L}}(d|\\vec{\\theta}) \\propto \\exp\\left[-\\frac{1}{2}\\langle s - h(\\vec{\\theta})| s - h(\\vec{\\theta}) \\rangle \\right] $$\n",
    "\n",
    "The inner product $\\langle \\cdot|\\cdot\\rangle$ measures the overlap between two signals given the noise characteristics of the detector:\n",
    "\n",
    "$$ \\langle a, b \\rangle \\equiv 4\\operatorname{Re}\\int_{f_{\\rm min}}^{f_{\\rm max}} \\frac{\\tilde{a}(f)\\tilde{b}^*(f)}{S_n(f)}df $$\n",
    "\n",
    "We can approximate the likelihood by expanding the template around the true signal:\n",
    "\n",
    "$$ h(\\vec{\\theta})  = h_0 + \\Delta \\theta^i h_i$$\n",
    "\n",
    "so that the likelihood becomes a **multivariarte Gaussian distribution**:\n",
    "\n",
    "$$ p(\\vec{\\theta}|s)\\propto \\pi(\\vec{\\theta}) \\exp\\left[-\\frac{1}{2}\\langle n|n\\rangle + \\Delta \\theta^k\\langle n|h_k\\rangle - \\frac{1}{2}\\Delta \\theta^i \\langle h_i|h_j\\rangle \\Delta \\theta^j \\right] $$\n",
    "\n",
    "1. The truncation in the expansion is done at first-order in partial derivatives, known as **linearized signal approximation** (LSA)\n",
    "2. LSA approximation is equivalent to the leading term in **posterior expansion as a series in 1/SNR** (this is the reason why Fisher matrix is said to work in high-SNR limit) [see Vallisneri 2008]\n",
    "\n",
    "In Fisher matrix context we usually work in zero-noise approximation, so that the first two terms cancel and we define the Fisher matrix as:\n",
    "$$ F_{ij} = \\langle h_i|h_j\\rangle$$\n",
    "\n",
    "\n",
    "The Fisher likelihood is therefore simply given by:\n",
    "\n",
    "$$ {\\mathcal{L}} \\propto \\exp\\left[-\\frac{1}{2} \\left(\\vec{\\theta} - \\vec{\\theta}_{\\rm inj}\\right)^{\\rm T} F \\left(\\vec{\\theta} - \\vec{\\theta}_{\\rm inj}\\right) \\right] $$\n",
    "\n",
    "The inverse of the Fisher matrix gives us the covariance matrix among parameters:\n",
    "\n",
    "$$ \\sigma_i = \\sqrt{\\Sigma_{ii}} \\ \\leftrightarrow  \\Sigma_{ij} = \\left[F^{-1}\\right]_{ij}$$\n",
    "\n",
    "This is the basic math behind Fisher matrix codes, like `GWFish`"
   ]
  },
  {
   "cell_type": "markdown",
   "id": "524bec5c",
   "metadata": {},
   "source": [
    "### GW parameters\n",
    "The parameters describind a GW event are the following (they are already provided with the same nomenclature as used in the code):\n",
    "- `chirp_mass`: chirp mass of the binary in [Msol] (in detector frame)\n",
    "- `mass_ratio`: ratio of the secondary mass over the primary mass, so that it ranges in $[0,1]$\n",
    "- `redshift`: the redshift of the merger\n",
    "- `luminosity_distance`:  the luminosity distance of the merger in [Mpc]\n",
    "- `theta_jn`: the angle between the line of observation and the total angular momentum (orbital, spin and GR corrections) of the binary [rad] (it reduces to the so-called inclination angle or iota if the spin component is absent); it ranges in $[0, \\pi]$\n",
    "- `dec`: declination angle in [rad], it varies in $[-\\pi/2, +\\pi/2]$\n",
    "- `ra`: right ascension in [rad], it varies in $[0, 2/pi]$\n",
    "- `psi`: the polarization angle in [rad]; it ranges in $[0, \\pi]$\n",
    "- `phase`: the initial phase of the merger in [rad]; it ranges in $[0, 2\\pi]$\n",
    "- `geocent_time`: merger time as GPS time in [s]; it starts from 1980\n",
    "- `a_1`: dimensionless spin parameter of primary component; it ranges in $[0, 1]$\n",
    "- `a_2`: dimensionless spin parameter of secondary component; it ranges in $[0, 1]$\n",
    "- `tilt_1`: zenith angle between the spin and orbital angular momenta for the primary component in [rad]; it ranges in $[0, \\pi]$\n",
    "- `tilt_2`: zenith angle between the spin and orbital angular momenta for the secondary component in [rad]; it ranges in $[0, \\pi]$\n",
    "- `phi_12`: difference between total and orbital angular momentum azimuthal angles in [rad]; it ranges in $[0, 2\\pi]$\n",
    "- `phi_jl`: difference between the azimuthal angles of the individual spin vector projections on to the orbital plane in [rad]; it ranges in $[0, 2\\pi]$\n",
    "- `lambda_1`: dimensionless tidal polarizabilty of primary component\n",
    "- `lambda_2`: dimensionless tidal polarizabilty of secondary component\n",
    "\n",
    "The `lambda_1` and `lambda_2` parameters are for neutron stars only and their value spans from a few hundreds to a thousand."
   ]
  },
  {
   "cell_type": "markdown",
   "id": "ef0757cb",
   "metadata": {},
   "source": [
    "If $m_1$ and $m_2$ are the individual masses, then the chrip mass is defined as\n",
    "$$ {\\mathcal{M}}_{\\rm chirp} = \\frac{\\left(m_1 m_2\\right)^{3/5}}{\\left(m_1 + m_2\\right)^{1/5}} $$"
   ]
  },
  {
   "cell_type": "markdown",
   "id": "cad9b33c",
   "metadata": {},
   "source": [
    "### **Note on mass conventions**\n",
    "In `GWFish` the input masses can be passed in the following different combinations (the combination has to be the same when selecting the `fisher_params`):\n",
    "- `chirp_mass` (in detector-frame and in [Msol]) and `mass_ratio` \n",
    "- `chirp_mass_source` (in source-frame and in [Msol]) and `mass_ratio`\n",
    "- `mass_1` and `mass_2`, both in detector-frame and in [Msol]\n",
    "- `mass_1_source` and `mass_2_source`, both in source-frame and in [Msol]\n",
    "\n",
    "Pay attention that when masses are passed to `lal` they are **always** converted into `mass_1` and `mass_2` (in [kg]), as `lal` always takes masses in **detector frame**!\n"
   ]
  },
  {
   "cell_type": "markdown",
   "id": "41232d3c",
   "metadata": {},
   "source": [
    "## Why Fisher analysis?\n",
    "**When studying the performance of a new detector, such as the Einstein Telescope, which has a much improved sensitivity and is predicted to detect entire populations of events ($10^6$ events per years against the current tens that we are detecting), we want a tool to make forecasts in a reasonable amoiunt of time. Since we do not have still a fast full parameter estimation, the Fisher matrix approximation is the state-of-the-art for forecasts.** "
   ]
  },
  {
   "cell_type": "markdown",
   "id": "3b6a1633",
   "metadata": {},
   "source": [
    "# Let's start!"
   ]
  },
  {
   "cell_type": "markdown",
   "id": "c6e06442",
   "metadata": {},
   "source": [
    "The implementation of a Fisher matrix code relies on three main pillars:\n",
    "1. Analytic **waveform approximation**: `GWFish` uses all the waveforms from `lalsimulation` in frequency domain (although it is also possble to work in time domain)\n",
    "2. **Derivatives**: these are done numerically at the second order (except for some parameters, like distance, phase and time, which are straightforward analytically)\n",
    "3. **Matrix inversion**: singular value decomposition and normalization is used to safely invert the Fisher matrix"
   ]
  },
  {
   "cell_type": "markdown",
   "id": "f11595b6",
   "metadata": {},
   "source": [
    "### Import packages"
   ]
  },
  {
   "cell_type": "code",
   "execution_count": 2,
   "id": "3ebffe5f",
   "metadata": {},
   "outputs": [],
   "source": [
    "# suppress warning outputs for using lal in jupuyter notebook\n",
    "import warnings \n",
    "warnings.filterwarnings(\"ignore\", \"Wswiglal-redir-stdio\")\n",
    "\n",
    "import GWFish.modules as gw\n",
    "from tqdm import tqdm\n",
    "import matplotlib\n",
    "import matplotlib.pyplot as plt\n",
    "import corner\n",
    "import numpy as np\n",
    "import pandas as pd\n",
    "import json\n",
    "import os\n",
    "from astropy.cosmology import Planck18"
   ]
  },
  {
   "cell_type": "code",
   "execution_count": 3,
   "id": "bc8c5391-0276-4ca9-827e-b2a8ec8495e3",
   "metadata": {},
   "outputs": [
    {
     "name": "stdout",
     "output_type": "stream",
     "text": [
      "/home/josecarlos/Desktop/2025/GWFish2025/GWFish/GWFish/modules/__init__.py\n"
     ]
    }
   ],
   "source": [
    "print(gw.__file__)"
   ]
  },
  {
   "cell_type": "markdown",
   "id": "7a125b68",
   "metadata": {},
   "source": [
    "## Single Event Analysis: GW170817-like"
   ]
  },
  {
   "cell_type": "markdown",
   "id": "d32f9aca-e888-401f-a126-b065e57316d9",
   "metadata": {},
   "source": [
    "# Event's parameters should be passed as Pandas dataframe\n",
    "\n",
    "ns = 50\n",
    "one = np.ones((ns,))\n",
    "\n",
    "z = 4\n",
    "Planck18.luminosity_distance(z).value\n",
    "\n",
    "q = 0.75\n",
    "#Mchirp = np.linspace(42992.3416, 2149617.0789, num=ns) \n",
    "#mass_1 = Mchirp * (1/q**2 + 1/q**3)**(1/5)\n",
    "#mass_2 = Mchirp * (q**3 + q**2)**(1/5)\n",
    "\n",
    "Mtotal = np.linspace(100000,5000000, num=ns) # 10⁵<Mtot<5x10^6, Mangiagli et al (2022). \n",
    "#Mtotal = 4700000\n",
    "mass_1 = Mtotal/(1 + q)\n",
    "mass_2 = Mtotal * q/(1 + q)\n",
    "\n",
    "parameters = pd.DataFrame.from_dict({\n",
    "    'mass_1': mass_1 * one,\n",
    "    'mass_2': mass_2 * one,\n",
    "    'redshift': z*one,\n",
    "    'luminosity_distance': Planck18.luminosity_distance(z).value *one,\n",
    "    'theta_jn': 5/6 * np.pi * one,\n",
    "    'ra': 3.45 * one,\n",
    "    'dec': -0.41 * one,\n",
    "    'psi': 1.6 * one,\n",
    "    'phase': 0,\n",
    "    'geocent_time': 1187008882 * one, \n",
    "#    'a_1': 0.2 * one,\n",
    "#    'a_2': 0.2 * one,\n",
    "#    'tilt_1': 1/4 * np.pi * one,\n",
    "#    'tilt_2': 1/4 * np.pi * one,\n",
    "})"
   ]
  },
  {
   "cell_type": "code",
   "execution_count": 4,
   "id": "4d9ab509-1174-4425-9d9e-4d075f959861",
   "metadata": {},
   "outputs": [
    {
     "data": {
      "text/html": [
       "<div>\n",
       "<style scoped>\n",
       "    .dataframe tbody tr th:only-of-type {\n",
       "        vertical-align: middle;\n",
       "    }\n",
       "\n",
       "    .dataframe tbody tr th {\n",
       "        vertical-align: top;\n",
       "    }\n",
       "\n",
       "    .dataframe thead th {\n",
       "        text-align: right;\n",
       "    }\n",
       "</style>\n",
       "<table border=\"1\" class=\"dataframe\">\n",
       "  <thead>\n",
       "    <tr style=\"text-align: right;\">\n",
       "      <th></th>\n",
       "      <th>mass_1</th>\n",
       "      <th>mass_2</th>\n",
       "      <th>luminosity_distance</th>\n",
       "      <th>theta_jn</th>\n",
       "      <th>ra</th>\n",
       "      <th>dec</th>\n",
       "      <th>psi</th>\n",
       "      <th>phase</th>\n",
       "      <th>geocent_time</th>\n",
       "    </tr>\n",
       "  </thead>\n",
       "  <tbody>\n",
       "    <tr>\n",
       "      <th>0</th>\n",
       "      <td>1280000</td>\n",
       "      <td>320000</td>\n",
       "      <td>36659.047309</td>\n",
       "      <td>2.617994</td>\n",
       "      <td>3.45</td>\n",
       "      <td>-0.41</td>\n",
       "      <td>1.6</td>\n",
       "      <td>0</td>\n",
       "      <td>1187008882</td>\n",
       "    </tr>\n",
       "  </tbody>\n",
       "</table>\n",
       "</div>"
      ],
      "text/plain": [
       "    mass_1  mass_2  luminosity_distance  theta_jn    ra   dec  psi  phase  \\\n",
       "0  1280000  320000         36659.047309  2.617994  3.45 -0.41  1.6      0   \n",
       "\n",
       "   geocent_time  \n",
       "0    1187008882  "
      ]
     },
     "execution_count": 4,
     "metadata": {},
     "output_type": "execute_result"
    }
   ],
   "source": [
    "# Event's parameters should be passed as Pandas dataframe\n",
    "\n",
    "parameters = {\n",
    "    'mass_1': np.array([1280000]), \n",
    "    'mass_2': np.array([320000]),\n",
    "    'luminosity_distance': Planck18.luminosity_distance(4).value,\n",
    "    'theta_jn': np.array([5/6 * np.pi]),\n",
    "    'ra': np.array([3.45]),\n",
    "    'dec': np.array([-0.41]),\n",
    "    'psi': np.array([1.6]),\n",
    "    'phase': np.array([0]),\n",
    "    'geocent_time': np.array([1187008882])}\n",
    "#    'a_1': np.array([0.2]),\n",
    "#    'a_2': np.array([0.2]),\n",
    "#    'tilt_1': np.array([1/4 * np.pi]),\n",
    "#    'tilt_2': np.array([1/4 * np.pi])}\n",
    "parameters = pd.DataFrame(parameters)\n",
    "parameters"
   ]
  },
  {
   "cell_type": "markdown",
   "id": "b421e71b-7e72-44a2-9f02-5b9e913c4d00",
   "metadata": {},
   "source": [
    "import sys\n",
    "import importlib\n",
    "\n",
    "# Add the directory containing your uploaded utilities.py (adjust path if needed)\n",
    "sys.path.insert(0, \"/home/josecarlos/Desktop/2025/GWFish2025/GWFish/GWFish/modules\")\n",
    "\n",
    "# Import the updated file directly\n",
    "import utilities\n",
    "importlib.reload(utilities)"
   ]
  },
  {
   "cell_type": "code",
   "execution_count": 5,
   "id": "2907ace1",
   "metadata": {},
   "outputs": [
    {
     "name": "stdout",
     "output_type": "stream",
     "text": [
      "Using TaylorF2 with maxn = 5\n",
      "Using TaylorF2 with maxn = 5\n"
     ]
    },
    {
     "name": "stderr",
     "output_type": "stream",
     "text": [
      "  0%|                                                     | 0/1 [00:00<?, ?it/s]"
     ]
    },
    {
     "name": "stdout",
     "output_type": "stream",
     "text": [
      "Using TaylorF2 with maxn = 4\n",
      "Using TaylorF2 with maxn = 4\n",
      "Using TaylorF2 with maxn = 4\n",
      "Using TaylorF2 with maxn = 4\n",
      "Using TaylorF2 with maxn = 4\n",
      "Using TaylorF2 with maxn = 4\n",
      "Using TaylorF2 with maxn = 4\n",
      "Using TaylorF2 with maxn = 4\n",
      "Using TaylorF2 with maxn = 4\n",
      "Using TaylorF2 with maxn = 4\n",
      "Using TaylorF2 with maxn = 4\n",
      "Using TaylorF2 with maxn = 4\n",
      "Using TaylorF2 with maxn = 4\n",
      "Using TaylorF2 with maxn = 4\n",
      "Using TaylorF2 with maxn = 4\n",
      "Using TaylorF2 with maxn = 4\n"
     ]
    },
    {
     "name": "stderr",
     "output_type": "stream",
     "text": [
      "100%|█████████████████████████████████████████████| 1/1 [00:00<00:00,  1.48it/s]\n",
      "  0%|                                                     | 0/1 [00:00<?, ?it/s]"
     ]
    },
    {
     "name": "stdout",
     "output_type": "stream",
     "text": [
      "Using TaylorF2 with maxn = 4\n",
      "Using TaylorF2 with maxn = 4\n",
      "Using TaylorF2 with maxn = 4\n",
      "Using TaylorF2 with maxn = 4\n",
      "Using TaylorF2 with maxn = 4\n",
      "Using TaylorF2 with maxn = 4\n",
      "Using TaylorF2 with maxn = 4\n",
      "Using TaylorF2 with maxn = 4\n",
      "Using TaylorF2 with maxn = 4\n",
      "Using TaylorF2 with maxn = 4\n",
      "Using TaylorF2 with maxn = 4\n",
      "Using TaylorF2 with maxn = 4\n",
      "Using TaylorF2 with maxn = 4\n",
      "Using TaylorF2 with maxn = 4\n",
      "Using TaylorF2 with maxn = 4\n",
      "Using TaylorF2 with maxn = 4\n"
     ]
    },
    {
     "name": "stderr",
     "output_type": "stream",
     "text": [
      "100%|█████████████████████████████████████████████| 1/1 [00:00<00:00,  1.56it/s]\n"
     ]
    }
   ],
   "source": [
    "# We choose a waveform approximant suitable for BNS analysis\n",
    "# In this case we are taking into account tidal polarizability effects\n",
    "#from waveforms import TaylorF2\n",
    "\n",
    "waveform_model = 'TaylorF2'\n",
    "maxn_val = 5\n",
    "f_ref = 1e-4\n",
    "\n",
    "# Choose the detector onto which you want to project the signal\n",
    "detector = 'LISA'\n",
    "\n",
    "#waveform = TaylorF2(data_params={'maxn': maxn_val})\n",
    "signal, _ = gw.utilities.get_fd_signal(parameters, detector, waveform_model, f_ref, data_params_override={'maxn': maxn_val}) # waveform_model and f_ref are passed together\n",
    "frequency = gw.detection.Detector(detector).frequencyvector[:, 0]\n",
    "psd_data = gw.utilities.get_detector_psd(detector)\n",
    "detectors = ['LISA']\n",
    "network = gw.detection.Network(detector_ids = detectors, detection_SNR = (0., 0.))\n",
    "snr = gw.utilities.get_snr(parameters, network, waveform_model, f_ref, data_params_override={'maxn': maxn_val})\n",
    "fisher_parameters = ['mass_1', 'mass_2', 'luminosity_distance', 'theta_jn', 'dec','ra',\n",
    "                    'psi', 'phase', 'geocent_time']\n",
    "detected, network_snr, parameter_errors, sky_localization = gw.fishermatrix.compute_network_errors(\n",
    "    network = gw.detection.Network(detector_ids = ['LISA'], detection_SNR = (0., 0.)),\n",
    "    parameter_values = parameters,\n",
    "    fisher_parameters=fisher_parameters, \n",
    "    waveform_model = waveform_model,\n",
    "    f_ref = 1e-4,\n",
    "    eps=1e-5,\n",
    "    eps_mass=1e-5,\n",
    "    data_params_override = {'maxn': maxn_val},\n",
    "    )   \n",
    "    # use_duty_cycle = False, # default is False anyway\n",
    "save_matrices = True, # default is False anyway, put True if you want Fisher and covariance matrices in the output\n",
    "save_matrices_path = '/home/josecarlos/Desktop/2025/GWFish2025/GWFish/LISA/population', # default is None anyway,\n",
    "                                     # otherwise specify the folder\n",
    "                                     # where to save the Fisher and\n",
    "                                     # corresponding covariance matrices\n",
    "data_folder = '/home/josecarlos/Desktop/2025/GWFish2025/GWFish/LISA/population' \n",
    "network = gw.detection.Network(detector_ids = ['LISA'], detection_SNR = (0., 0.))\n",
    "gw.fishermatrix.analyze_and_save_to_txt(network = network,\n",
    "                                    parameter_values  = parameters,\n",
    "                                    fisher_parameters = fisher_parameters, \n",
    "                                    sub_network_ids_list = [[0]],\n",
    "                                    #population_name = f'MBHB_Mtotal100500_q075_{maxn_val}PN_rerun',\n",
    "                                    population_name = f'MBHB_single_TaylorF2_{maxn_val}PN',\n",
    "                                    waveform_model = waveform_model,\n",
    "                                    f_ref = 1e-4,\n",
    "                                    save_path = data_folder,\n",
    "                                    save_matrices = True,\n",
    "                                    eps=1e-5,\n",
    "                                    eps_mass=1e-5,\n",
    "                                    #decimal_output_format='%.6E'\n",
    "                                    data_params_override={'maxn': maxn_val}\n",
    "                                    )"
   ]
  },
  {
   "cell_type": "code",
   "execution_count": 6,
   "id": "747633b9-7006-4379-9348-27f14a6524c6",
   "metadata": {},
   "outputs": [
    {
     "data": {
      "text/plain": [
       "'/home/josecarlos/Desktop/2025/GWFish2025/GWFish/LISA/population'"
      ]
     },
     "execution_count": 6,
     "metadata": {},
     "output_type": "execute_result"
    }
   ],
   "source": [
    "pwd"
   ]
  },
  {
   "cell_type": "code",
   "execution_count": 7,
   "id": "5fa1a6ae-e97c-4506-ba0b-06c7d85a5114",
   "metadata": {},
   "outputs": [],
   "source": [
    "fisher_matrix = np.load(data_folder + '/' + f'fisher_matrices_LISA_MBHB_single_TaylorF2_{maxn_val}PN_SNR0.npy')"
   ]
  },
  {
   "cell_type": "code",
   "execution_count": 8,
   "id": "1175cd1e-2067-4808-88a1-ef76a75daf7c",
   "metadata": {},
   "outputs": [],
   "source": [
    "errors = pd.read_csv(data_folder + '/' + f'Errors_LISA_MBHB_single_TaylorF2_{maxn_val}PN_SNR0.txt', delimiter = ' ')"
   ]
  },
  {
   "cell_type": "code",
   "execution_count": 9,
   "id": "546e39a4-ca75-4f78-bd4e-95211f97fc06",
   "metadata": {},
   "outputs": [],
   "source": [
    "CORNER_KWARGS = dict(\n",
    "    bins = 50, # number of bins for histograms\n",
    "    smooth = 0.99, # smooths out contours. \n",
    "    plot_datapoints = True, # choose if you want datapoints\n",
    "    label_kwargs = dict(fontsize = 12), # font size for labels\n",
    "    show_titles = True, #choose if you want titles on top of densities.\n",
    "    title_kwargs = dict(fontsize = 12), # font size for title\n",
    "    plot_density = False,\n",
    "    title_quantiles = [0.16, 0.5, 0.84],  # add quantiles to plot densities for 1d hist\n",
    "    levels = (1 - np.exp(-0.5), 1 - np.exp(-2), 1 - np.exp(-9 / 2.)), # 1, 2 and 3 sigma contours for 2d plots\n",
    "    fill_contours = True, #decide if you want to fill the contours\n",
    "    max_n_ticks = 2, # set a limit to ticks in the x-y axes.\n",
    "    title_fmt=\".3f\"\n",
    "    )"
   ]
  },
  {
   "cell_type": "code",
   "execution_count": 10,
   "id": "16fd8734-9776-41e6-80ba-c37ccc5a1d07",
   "metadata": {},
   "outputs": [],
   "source": [
    "corner_lbs = [r'$m_1$ $[M_{\\odot}]$', r'$m_2$ $[M_{\\odot}]$']\n",
    "\n",
    "mean_lbs = ['mass_1', 'mass_2']\n",
    "mean_values = parameters[mean_lbs].iloc[0] # mean values of the parameters\n",
    "cov_matrix = np.load(data_folder + '/' + f'inv_fisher_matrices_LISA_MBHB_single_TaylorF2_{maxn_val}PN_SNR0.npy')[0, :2, :2]"
   ]
  },
  {
   "cell_type": "code",
   "execution_count": 11,
   "id": "b6c22a93-c695-42ce-8f9c-bdc29519ef70",
   "metadata": {},
   "outputs": [
    {
     "data": {
      "image/png": "[encoded data removed]",
      "text/plain": [
       "<Figure size 550x550 with 4 Axes>"
      ]
     },
     "metadata": {},
     "output_type": "display_data"
    }
   ],
   "source": [
    "# Sample from a multi-variate gaussian with the given covariance matrix and injected mean values\n",
    "samples = np.random.multivariate_normal(mean_values, cov_matrix, int(1e6))\n",
    "fig = corner.corner(samples, labels = corner_lbs, truths = mean_values, truth_color = 'red',\n",
    "                    **CORNER_KWARGS)\n",
    "plt.savefig(f\"pm1m2_TaylorF2_{maxn_val}PN.pdf\", format=\"pdf\", bbox_inches=\"tight\")\n",
    "plt.show()\n",
    "plt.close()"
   ]
  },
  {
   "cell_type": "code",
   "execution_count": null,
   "id": "b623c007-7156-4c6d-9004-668e44993c5d",
   "metadata": {},
   "outputs": [],
   "source": []
  }
 ],
 "metadata": {
  "kernelspec": {
   "display_name": "Python 3 (ipykernel)",
   "language": "python",
   "name": "python3"
  },
  "language_info": {
   "codemirror_mode": {
    "name": "ipython",
    "version": 3
   },
   "file_extension": ".py",
   "mimetype": "text/x-python",
   "name": "python",
   "nbconvert_exporter": "python",
   "pygments_lexer": "ipython3",
   "version": "3.11.12"
  }
 },
 "nbformat": 4,
 "nbformat_minor": 5
}

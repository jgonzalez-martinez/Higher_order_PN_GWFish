{
 "cells": [
  {
   "cell_type": "markdown",
   "id": "3d714935",
   "metadata": {},
   "source": [
    "# GWFish Tutorial\n",
    "This is a brief guide on how to use GWFish software"
   ]
  },
  {
   "cell_type": "markdown",
   "id": "7fb8a680",
   "metadata": {},
   "source": [
    "##  Settings for working in Google Colab\n",
    "In Google Colab you do not need to download anything locally, and can work online. The only requirement is to have a Google account. Once you have opened this tutorial in Google Colab, uncomment the following lines:"
   ]
  },
  {
   "cell_type": "code",
   "execution_count": 1,
   "id": "38de449e",
   "metadata": {},
   "outputs": [],
   "source": [
    "#! pip install -q git+https://github.com/janosch314/GWFish.git\n",
    "#! pip install -q lalsuite\n",
    "#! pip install -q corner"
   ]
  },
  {
   "cell_type": "markdown",
   "id": "639a47c3",
   "metadata": {},
   "source": [
    "**Note**: in Google Colab remember to **restart the kernel runtime** after installation: `runtime -> restart session`"
   ]
  },
  {
   "cell_type": "markdown",
   "id": "017565aa",
   "metadata": {},
   "source": [
    "## Settings for working locally with GWFish"
   ]
  },
  {
   "cell_type": "markdown",
   "id": "73abd866",
   "metadata": {},
   "source": [
    "### Install GWFish in a `conda` environment\n",
    "It is advisable to create a `conda` environment where to make the GWFish modules available\n",
    "```\n",
    "conda create --name gwfish_env python=3.9\n",
    "conda activate gwfish_env\n",
    "```\n",
    "To make GWFish modules available from any location in your PC, after clonig the repository\n",
    "```\n",
    "git clone git@github.com:janosch314/GWFish.git\n",
    "```\n",
    "from the folder location, and after activating the `conda` environment, execute the command\n",
    "```\n",
    "pip install .\n",
    "```\n",
    "The following packages need to be installed as well:\n",
    "```\n",
    "pip install lalsuite\n",
    "pip install corner\n",
    "pip install tqdm\n",
    "pip install pandas\n",
    "pip install tables\n",
    "pip install json\n",
    "pip install os\n",
    "pip install sympy\n",
    "```\n",
    "For `numpy` it is preferred to have a version below 2.0; since it is usually automatically installed with the conda environment, the suggestion is to uninstall it if the versione is $\\ge 2$ and downgrade it:\n",
    "```\n",
    "pip uninstall numpy\n",
    "pip install numpy==1.25\n",
    "```"
   ]
  },
  {
   "cell_type": "markdown",
   "id": "06d2ea66",
   "metadata": {},
   "source": [
    "# What is the code about\n",
    "`GWFish` is a Fisher matrix code, useful to calculate the covariance matrix for a gravitational wave (GW) event in a really small amout of computational time (around seconds). Let's take a step back and briefly recap how parameter estimation (PE) is done in the GW field."
   ]
  },
  {
   "cell_type": "markdown",
   "id": "c1d3c965",
   "metadata": {},
   "source": [
    "## Starter: GW data analysis\n",
    "Bayesian gravitational wave data analysis is used to infer the properties of gravitational wave sources and make predictions about their parameters (see below what are in detail the parameters we are talking about). It combines the principles of Bayesian statistics with the analysis of gravitational wave signals detected by ground-based observatories like LIGO and Virgo.\n",
    "\n",
    "The goal of Bayesian gravitational wave data analysis is to extract this information from the noisy gravitational wave signals detected by the observatories:\n",
    "$$s(t) = h_0(t) + n(t)$$\n",
    "where $h_0(t)$ is the true (unknown) signal and $n(t)$ is the detector noise, assumed to be Gaussian and stationary.\n",
    "\n",
    "Mathematically, Bayes' theorem can be expressed as:\n",
    "\n",
    "$$p(\\vec{\\theta}|s) \\propto \\pi(\\vec{\\theta}){\\mathcal{L}}(s|\\vec{\\theta})$$\n",
    "\n",
    "where $p(\\vec{\\theta}|d)$ is the posterior distribution, ${\\mathcal{L}}(d|\\vec{\\theta})$ is the likelihood function, $\\pi(\\vec{\\theta})$ is the prior distribution, and we neglected the evidence or marginal likelihood at the denominator.\n",
    "\n",
    "To perform Bayesian gravitational wave data analysis, we use various techniques such as Markov Chain Monte Carlo (MCMC) sampling and nested sampling. The mostly used software is `bilby`, and typically full Baysian parameter estimation is computationally expensive."
   ]
  },
  {
   "cell_type": "markdown",
   "id": "eadf70e5",
   "metadata": {},
   "source": [
    "## Fisher-matrix approximation\n",
    "\n",
    "The gravitational-wave likelihood is defined as the probability of noise realization:\n",
    "\n",
    "$$ {\\mathcal{L}}(d|\\vec{\\theta}) \\propto \\exp\\left[-\\frac{1}{2}\\langle s - h(\\vec{\\theta})| s - h(\\vec{\\theta}) \\rangle \\right] $$\n",
    "\n",
    "The inner product $\\langle \\cdot|\\cdot\\rangle$ measures the overlap between two signals given the noise characteristics of the detector:\n",
    "\n",
    "$$ \\langle a, b \\rangle \\equiv 4\\operatorname{Re}\\int_{f_{\\rm min}}^{f_{\\rm max}} \\frac{\\tilde{a}(f)\\tilde{b}^*(f)}{S_n(f)}df $$\n",
    "\n",
    "We can approximate the likelihood by expanding the template around the true signal:\n",
    "\n",
    "$$ h(\\vec{\\theta})  = h_0 + \\Delta \\theta^i h_i$$\n",
    "\n",
    "so that the likelihood becomes a **multivariarte Gaussian distribution**:\n",
    "\n",
    "$$ p(\\vec{\\theta}|s)\\propto \\pi(\\vec{\\theta}) \\exp\\left[-\\frac{1}{2}\\langle n|n\\rangle + \\Delta \\theta^k\\langle n|h_k\\rangle - \\frac{1}{2}\\Delta \\theta^i \\langle h_i|h_j\\rangle \\Delta \\theta^j \\right] $$\n",
    "\n",
    "1. The truncation in the expansion is done at first-order in partial derivatives, known as **linearized signal approximation** (LSA)\n",
    "2. LSA approximation is equivalent to the leading term in **posterior expansion as a series in 1/SNR** (this is the reason why Fisher matrix is said to work in high-SNR limit) [see Vallisneri 2008]\n",
    "\n",
    "In Fisher matrix context we usually work in zero-noise approximation, so that the first two terms cancel and we define the Fisher matrix as:\n",
    "$$ F_{ij} = \\langle h_i|h_j\\rangle$$\n",
    "\n",
    "\n",
    "The Fisher likelihood is therefore simply given by:\n",
    "\n",
    "$$ {\\mathcal{L}} \\propto \\exp\\left[-\\frac{1}{2} \\left(\\vec{\\theta} - \\vec{\\theta}_{\\rm inj}\\right)^{\\rm T} F \\left(\\vec{\\theta} - \\vec{\\theta}_{\\rm inj}\\right) \\right] $$\n",
    "\n",
    "The inverse of the Fisher matrix gives us the covariance matrix among parameters:\n",
    "\n",
    "$$ \\sigma_i = \\sqrt{\\Sigma_{ii}} \\ \\leftrightarrow  \\Sigma_{ij} = \\left[F^{-1}\\right]_{ij}$$\n",
    "\n",
    "This is the basic math behind Fisher matrix codes, like `GWFish`"
   ]
  },
  {
   "cell_type": "markdown",
   "id": "524bec5c",
   "metadata": {},
   "source": [
    "### GW parameters\n",
    "The parameters describind a GW event are the following (they are already provided with the same nomenclature as used in the code):\n",
    "- `chirp_mass`: chirp mass of the binary in [Msol] (in detector frame)\n",
    "- `mass_ratio`: ratio of the secondary mass over the primary mass, so that it ranges in $[0,1]$\n",
    "- `redshift`: the redshift of the merger\n",
    "- `luminosity_distance`:  the luminosity distance of the merger in [Mpc]\n",
    "- `theta_jn`: the angle between the line of observation and the total angular momentum (orbital, spin and GR corrections) of the binary [rad] (it reduces to the so-called inclination angle or iota if the spin component is absent); it ranges in $[0, \\pi]$\n",
    "- `dec`: declination angle in [rad], it varies in $[-\\pi/2, +\\pi/2]$\n",
    "- `ra`: right ascension in [rad], it varies in $[0, 2/pi]$\n",
    "- `psi`: the polarization angle in [rad]; it ranges in $[0, \\pi]$\n",
    "- `phase`: the initial phase of the merger in [rad]; it ranges in $[0, 2\\pi]$\n",
    "- `geocent_time`: merger time as GPS time in [s]; it starts from 1980\n",
    "- `a_1`: dimensionless spin parameter of primary component; it ranges in $[0, 1]$\n",
    "- `a_2`: dimensionless spin parameter of secondary component; it ranges in $[0, 1]$\n",
    "- `tilt_1`: zenith angle between the spin and orbital angular momenta for the primary component in [rad]; it ranges in $[0, \\pi]$\n",
    "- `tilt_2`: zenith angle between the spin and orbital angular momenta for the secondary component in [rad]; it ranges in $[0, \\pi]$\n",
    "- `phi_12`: difference between total and orbital angular momentum azimuthal angles in [rad]; it ranges in $[0, 2\\pi]$\n",
    "- `phi_jl`: difference between the azimuthal angles of the individual spin vector projections on to the orbital plane in [rad]; it ranges in $[0, 2\\pi]$\n",
    "- `lambda_1`: dimensionless tidal polarizabilty of primary component\n",
    "- `lambda_2`: dimensionless tidal polarizabilty of secondary component\n",
    "\n",
    "The `lambda_1` and `lambda_2` parameters are for neutron stars only and their value spans from a few hundreds to a thousand."
   ]
  },
  {
   "cell_type": "markdown",
   "id": "ef0757cb",
   "metadata": {},
   "source": [
    "If $m_1$ and $m_2$ are the individual masses, then the chrip mass is defined as\n",
    "$$ {\\mathcal{M}}_{\\rm chirp} = \\frac{\\left(m_1 m_2\\right)^{3/5}}{\\left(m_1 + m_2\\right)^{1/5}} $$"
   ]
  },
  {
   "cell_type": "markdown",
   "id": "cad9b33c",
   "metadata": {},
   "source": [
    "### **Note on mass conventions**\n",
    "In `GWFish` the input masses can be passed in the following different combinations (the combination has to be the same when selecting the `fisher_params`):\n",
    "- `chirp_mass` (in detector-frame and in [Msol]) and `mass_ratio` \n",
    "- `chirp_mass_source` (in source-frame and in [Msol]) and `mass_ratio`\n",
    "- `mass_1` and `mass_2`, both in detector-frame and in [Msol]\n",
    "- `mass_1_source` and `mass_2_source`, both in source-frame and in [Msol]\n",
    "\n",
    "Pay attention that when masses are passed to `lal` they are **always** converted into `mass_1` and `mass_2` (in [kg]), as `lal` always takes masses in **detector frame**!\n"
   ]
  },
  {
   "cell_type": "markdown",
   "id": "41232d3c",
   "metadata": {},
   "source": [
    "## Why Fisher analysis?\n",
    "**When studying the performance of a new detector, such as the Einstein Telescope, which has a much improved sensitivity and is predicted to detect entire populations of events ($10^6$ events per years against the current tens that we are detecting), we want a tool to make forecasts in a reasonable amoiunt of time. Since we do not have still a fast full parameter estimation, the Fisher matrix approximation is the state-of-the-art for forecasts.** "
   ]
  },
  {
   "cell_type": "markdown",
   "id": "3b6a1633",
   "metadata": {},
   "source": [
    "# Let's start!"
   ]
  },
  {
   "cell_type": "markdown",
   "id": "c6e06442",
   "metadata": {},
   "source": [
    "The implementation of a Fisher matrix code relies on three main pillars:\n",
    "1. Analytic **waveform approximation**: `GWFish` uses all the waveforms from `lalsimulation` in frequency domain (although it is also possble to work in time domain)\n",
    "2. **Derivatives**: these are done numerically at the second order (except for some parameters, like distance, phase and time, which are straightforward analytically)\n",
    "3. **Matrix inversion**: singular value decomposition and normalization is used to safely invert the Fisher matrix"
   ]
  },
  {
   "cell_type": "markdown",
   "id": "f11595b6",
   "metadata": {},
   "source": [
    "### Import packages"
   ]
  },
  {
   "cell_type": "code",
   "execution_count": 1,
   "id": "3ebffe5f",
   "metadata": {},
   "outputs": [],
   "source": [
    "# suppress warning outputs for using lal in jupuyter notebook\n",
    "import warnings \n",
    "warnings.filterwarnings(\"ignore\", \"Wswiglal-redir-stdio\")\n",
    "\n",
    "import GWFish.modules as gw\n",
    "from tqdm import tqdm\n",
    "import matplotlib\n",
    "import matplotlib.pyplot as plt\n",
    "import corner\n",
    "import numpy as np\n",
    "import pandas as pd\n",
    "import json\n",
    "import os\n",
    "from astropy.cosmology import Planck18"
   ]
  },
  {
   "cell_type": "markdown",
   "id": "7a125b68",
   "metadata": {},
   "source": [
    "## Single Event Analysis: GW170817-like"
   ]
  },
  {
   "cell_type": "code",
   "execution_count": 2,
   "id": "73dfac0b",
   "metadata": {},
   "outputs": [],
   "source": [
    "# Event's parameters should be passed as Pandas dataframe\n",
    "\n",
    "ns = 50\n",
    "one = np.ones((ns,))\n",
    "\n",
    "z = 4\n",
    "Planck18.luminosity_distance(z).value\n",
    "\n",
    "q = 0.75\n",
    "#Mchirp = np.linspace(42992.3416, 2149617.0789, num=ns) \n",
    "#mass_1 = Mchirp * (1/q**2 + 1/q**3)**(1/5)\n",
    "#mass_2 = Mchirp * (q**3 + q**2)**(1/5)\n",
    "\n",
    "Mtotal = np.linspace(100000,5000000, num=ns) # 10⁵<Mtot<5x10^6, Mangiagli et al (2022). \n",
    "#Mtotal = 4700000\n",
    "mass_1 = Mtotal/(1 + q)\n",
    "mass_2 = Mtotal * q/(1 + q)\n",
    "\n",
    "parameters = pd.DataFrame.from_dict({\n",
    "    'mass_1': mass_1 * one,\n",
    "    'mass_2': mass_2 * one,\n",
    "    'redshift': z*one,\n",
    "    'luminosity_distance': Planck18.luminosity_distance(z).value *one,\n",
    "    'theta_jn': 5/6 * np.pi * one,\n",
    "    'ra': 3.45 * one,\n",
    "    'dec': -0.41 * one,\n",
    "    'psi': 1.6 * one,\n",
    "    'phase': 0,\n",
    "    'geocent_time': 1187008882 * one, \n",
    "#    'a_1': 0.2 * one,\n",
    "#    'a_2': 0.2 * one,\n",
    "#    'tilt_1': 1/4 * np.pi * one,\n",
    "#    'tilt_2': 1/4 * np.pi * one,\n",
    "})"
   ]
  },
  {
   "cell_type": "code",
   "execution_count": 3,
   "id": "e360cb54-9d58-410a-aa07-027b7fb5a98b",
   "metadata": {},
   "outputs": [
    {
     "data": {
      "text/plain": [
       "<module 'utilities' from '/home/josecarlos/Desktop/2025/GWFish2025/GWFish/GWFish/modules/utilities.py'>"
      ]
     },
     "execution_count": 3,
     "metadata": {},
     "output_type": "execute_result"
    }
   ],
   "source": [
    "import sys\n",
    "import importlib\n",
    "\n",
    "# Add the directory containing your uploaded utilities.py (adjust path if needed)\n",
    "sys.path.insert(0, \"/home/josecarlos/Desktop/2025/GWFish2025/GWFish/GWFish/modules\")\n",
    "\n",
    "# Import the updated file directly\n",
    "import utilities\n",
    "importlib.reload(utilities)"
   ]
  },
  {
   "cell_type": "code",
   "execution_count": 4,
   "id": "2907ace1",
   "metadata": {},
   "outputs": [
    {
     "ename": "TypeError",
     "evalue": "unsupported operand type(s) for -: 'ValueError' and 'int'",
     "output_type": "error",
     "traceback": [
      "\u001b[0;31m---------------------------------------------------------------------------\u001b[0m",
      "\u001b[0;31mTypeError\u001b[0m                                 Traceback (most recent call last)",
      "Cell \u001b[0;32mIn[4], line 12\u001b[0m\n\u001b[1;32m      9\u001b[0m detector \u001b[38;5;241m=\u001b[39m \u001b[38;5;124m'\u001b[39m\u001b[38;5;124mLISA\u001b[39m\u001b[38;5;124m'\u001b[39m\n\u001b[1;32m     11\u001b[0m \u001b[38;5;66;03m#waveform = TaylorF2(data_params={'maxn': maxn_val})\u001b[39;00m\n\u001b[0;32m---> 12\u001b[0m signal, _ \u001b[38;5;241m=\u001b[39m \u001b[43mutilities\u001b[49m\u001b[38;5;241;43m.\u001b[39;49m\u001b[43mget_fd_signal\u001b[49m\u001b[43m(\u001b[49m\u001b[43mparameters\u001b[49m\u001b[43m,\u001b[49m\u001b[43m \u001b[49m\u001b[43mdetector\u001b[49m\u001b[43m,\u001b[49m\u001b[43m \u001b[49m\u001b[43mwaveform_model\u001b[49m\u001b[43m,\u001b[49m\u001b[43m \u001b[49m\u001b[43mf_ref\u001b[49m\u001b[43m)\u001b[49m \u001b[38;5;66;03m# waveform_model and f_ref are passed together\u001b[39;00m\n\u001b[1;32m     13\u001b[0m frequency \u001b[38;5;241m=\u001b[39m gw\u001b[38;5;241m.\u001b[39mdetection\u001b[38;5;241m.\u001b[39mDetector(detector)\u001b[38;5;241m.\u001b[39mfrequencyvector[:, \u001b[38;5;241m0\u001b[39m]\n\u001b[1;32m     14\u001b[0m psd_data \u001b[38;5;241m=\u001b[39m utilities\u001b[38;5;241m.\u001b[39mget_detector_psd(detector)\n",
      "File \u001b[0;32m~/Desktop/2025/GWFish2025/GWFish/GWFish/modules/utilities.py:116\u001b[0m, in \u001b[0;36mget_fd_signal\u001b[0;34m(parameters, detector_name, waveform_model, f_ref)\u001b[0m\n\u001b[1;32m    109\u001b[0m data_params \u001b[38;5;241m=\u001b[39m {\n\u001b[1;32m    110\u001b[0m         \u001b[38;5;124m'\u001b[39m\u001b[38;5;124mfrequencyvector\u001b[39m\u001b[38;5;124m'\u001b[39m: detector\u001b[38;5;241m.\u001b[39mfrequencyvector,\n\u001b[1;32m    111\u001b[0m         \u001b[38;5;124m'\u001b[39m\u001b[38;5;124mf_ref\u001b[39m\u001b[38;5;124m'\u001b[39m: f_ref,\n\u001b[1;32m    112\u001b[0m         \u001b[38;5;124m'\u001b[39m\u001b[38;5;124mmaxn\u001b[39m\u001b[38;5;124m'\u001b[39m : \u001b[38;5;241m1.5\u001b[39m\n\u001b[1;32m    113\u001b[0m     }    \n\u001b[1;32m    115\u001b[0m waveform_obj \u001b[38;5;241m=\u001b[39m waveform_class(waveform_model, parameters\u001b[38;5;241m.\u001b[39miloc[\u001b[38;5;241m0\u001b[39m], data_params)\n\u001b[0;32m--> 116\u001b[0m wave \u001b[38;5;241m=\u001b[39m \u001b[43mwaveform_obj\u001b[49m\u001b[43m(\u001b[49m\u001b[43m)\u001b[49m\n\u001b[1;32m    117\u001b[0m t_of_f \u001b[38;5;241m=\u001b[39m waveform_obj\u001b[38;5;241m.\u001b[39mt_of_f\n\u001b[1;32m    119\u001b[0m \u001b[38;5;66;03m# The waveform is then projected onto the detector taking into account the Earth rotation \u001b[39;00m\n\u001b[1;32m    120\u001b[0m \u001b[38;5;66;03m# by passing at each frequency step the time of the waveform at the detector\u001b[39;00m\n",
      "File \u001b[0;32m~/miniconda3/envs/GWFish2025/lib/python3.11/site-packages/GWFish/modules/waveforms.py:135\u001b[0m, in \u001b[0;36mWaveform.__call__\u001b[0;34m(self)\u001b[0m\n\u001b[1;32m    133\u001b[0m \u001b[38;5;28;01mdef\u001b[39;00m \u001b[38;5;21m__call__\u001b[39m(\u001b[38;5;28mself\u001b[39m):\n\u001b[1;32m    134\u001b[0m \u001b[38;5;250m    \u001b[39m\u001b[38;5;124;03m\"\"\" Return frequency-domain polarization modes \"\"\"\u001b[39;00m\n\u001b[0;32m--> 135\u001b[0m     \u001b[38;5;28;01mreturn\u001b[39;00m \u001b[38;5;28;43mself\u001b[39;49m\u001b[38;5;241;43m.\u001b[39;49m\u001b[43mfrequency_domain_strain\u001b[49m\n",
      "File \u001b[0;32m~/miniconda3/envs/GWFish2025/lib/python3.11/site-packages/GWFish/modules/waveforms.py:144\u001b[0m, in \u001b[0;36mWaveform.frequency_domain_strain\u001b[0;34m(self)\u001b[0m\n\u001b[1;32m    141\u001b[0m \u001b[38;5;129m@property\u001b[39m\n\u001b[1;32m    142\u001b[0m \u001b[38;5;28;01mdef\u001b[39;00m \u001b[38;5;21mfrequency_domain_strain\u001b[39m(\u001b[38;5;28mself\u001b[39m):\n\u001b[1;32m    143\u001b[0m     \u001b[38;5;28;01mif\u001b[39;00m \u001b[38;5;28mself\u001b[39m\u001b[38;5;241m.\u001b[39m_frequency_domain_strain \u001b[38;5;129;01mis\u001b[39;00m \u001b[38;5;28;01mNone\u001b[39;00m:\n\u001b[0;32m--> 144\u001b[0m         \u001b[38;5;28;43mself\u001b[39;49m\u001b[38;5;241;43m.\u001b[39;49m\u001b[43mcalculate_frequency_domain_strain\u001b[49m\u001b[43m(\u001b[49m\u001b[43m)\u001b[49m\n\u001b[1;32m    146\u001b[0m     \u001b[38;5;28;01mreturn\u001b[39;00m \u001b[38;5;28mself\u001b[39m\u001b[38;5;241m.\u001b[39m_frequency_domain_strain\n",
      "File \u001b[0;32m~/miniconda3/envs/GWFish2025/lib/python3.11/site-packages/GWFish/modules/waveforms.py:568\u001b[0m, in \u001b[0;36mTaylorF2.calculate_frequency_domain_strain\u001b[0;34m(self)\u001b[0m\n\u001b[1;32m    552\u001b[0m pp \u001b[38;5;241m=\u001b[39m np\u001b[38;5;241m.\u001b[39mhstack((\u001b[38;5;241m1.\u001b[39m \u001b[38;5;241m*\u001b[39m ones, \u001b[38;5;241m0.\u001b[39m \u001b[38;5;241m*\u001b[39m ones, \u001b[38;5;241m20.\u001b[39m \u001b[38;5;241m/\u001b[39m \u001b[38;5;241m9.\u001b[39m \u001b[38;5;241m*\u001b[39m (\u001b[38;5;241m743.\u001b[39m \u001b[38;5;241m/\u001b[39m \u001b[38;5;241m336.\u001b[39m \u001b[38;5;241m+\u001b[39m eta \u001b[38;5;241m*\u001b[39m \\\n\u001b[1;32m    553\u001b[0m                 \u001b[38;5;241m11.\u001b[39m \u001b[38;5;241m/\u001b[39m \u001b[38;5;241m4.\u001b[39m) \u001b[38;5;241m*\u001b[39m ones, \u001b[38;5;241m-\u001b[39m\u001b[38;5;241m16\u001b[39m \u001b[38;5;241m*\u001b[39m np\u001b[38;5;241m.\u001b[39mpi \u001b[38;5;241m*\u001b[39m ones, \u001b[38;5;241m10.\u001b[39m \u001b[38;5;241m*\u001b[39m \\\n\u001b[1;32m    554\u001b[0m                 (\u001b[38;5;241m3058673.\u001b[39m \u001b[38;5;241m/\u001b[39m \u001b[38;5;241m1016064.\u001b[39m \u001b[38;5;241m+\u001b[39m \u001b[38;5;241m5429.\u001b[39m \u001b[38;5;241m/\u001b[39m \u001b[38;5;241m1008.\u001b[39m \u001b[38;5;241m*\u001b[39m eta \u001b[38;5;241m+\u001b[39m \\\n\u001b[0;32m   (...)\u001b[0m\n\u001b[1;32m    563\u001b[0m                 np\u001b[38;5;241m.\u001b[39mpi \u001b[38;5;241m*\u001b[39m (\u001b[38;5;241m77096675.\u001b[39m \u001b[38;5;241m/\u001b[39m \u001b[38;5;241m254016.\u001b[39m \u001b[38;5;241m+\u001b[39m \u001b[38;5;241m378515.\u001b[39m \u001b[38;5;241m/\u001b[39m \u001b[38;5;241m1512.\u001b[39m \u001b[38;5;241m*\u001b[39m \\\n\u001b[1;32m    564\u001b[0m                 eta \u001b[38;5;241m-\u001b[39m \u001b[38;5;241m74045.\u001b[39m \u001b[38;5;241m/\u001b[39m \u001b[38;5;241m756.\u001b[39m \u001b[38;5;241m*\u001b[39m eta \u001b[38;5;241m*\u001b[39m\u001b[38;5;241m*\u001b[39m \u001b[38;5;241m2\u001b[39m) \u001b[38;5;241m*\u001b[39m ones))\n\u001b[1;32m    566\u001b[0m \u001b[38;5;28mself\u001b[39m\u001b[38;5;241m.\u001b[39mpsi \u001b[38;5;241m=\u001b[39m \u001b[38;5;241m0.\u001b[39m\n\u001b[0;32m--> 568\u001b[0m \u001b[38;5;28;01mfor\u001b[39;00m k \u001b[38;5;129;01min\u001b[39;00m \u001b[43mnp\u001b[49m\u001b[38;5;241;43m.\u001b[39;49m\u001b[43marange\u001b[49m\u001b[43m(\u001b[49m\u001b[38;5;28;43mself\u001b[39;49m\u001b[38;5;241;43m.\u001b[39;49m\u001b[43mmaxn\u001b[49m\u001b[43m)\u001b[49m:\n\u001b[1;32m    569\u001b[0m     PNc \u001b[38;5;241m=\u001b[39m pp[:, k]\n\u001b[1;32m    570\u001b[0m     \u001b[38;5;28mself\u001b[39m\u001b[38;5;241m.\u001b[39mpsi \u001b[38;5;241m+\u001b[39m\u001b[38;5;241m=\u001b[39m PNc[:, np\u001b[38;5;241m.\u001b[39mnewaxis] \u001b[38;5;241m*\u001b[39m v \u001b[38;5;241m*\u001b[39m\u001b[38;5;241m*\u001b[39m k\n",
      "\u001b[0;31mTypeError\u001b[0m: unsupported operand type(s) for -: 'ValueError' and 'int'"
     ]
    }
   ],
   "source": [
    "# We choose a waveform approximant suitable for BNS analysis\n",
    "# In this case we are taking into account tidal polarizability effects\n",
    "#from waveforms import TaylorF2\n",
    "\n",
    "waveform_model = 'TaylorF2'\n",
    "f_ref = 1e-4\n",
    "\n",
    "# Choose the detector onto which you want to project the signal\n",
    "detector = 'LISA'\n",
    "\n",
    "#waveform = TaylorF2(data_params={'maxn': maxn_val})\n",
    "signal, _ = utilities.get_fd_signal(parameters, detector, waveform_model, f_ref) # waveform_model and f_ref are passed together\n",
    "frequency = gw.detection.Detector(detector).frequencyvector[:, 0]\n",
    "psd_data = utilities.get_detector_psd(detector)\n",
    "detectors = ['LISA']\n",
    "network = gw.detection.Network(detector_ids = detectors, detection_SNR = (0., 0.))\n",
    "snr = utilities.get_snr(parameters, network, waveform_model, f_ref)\n",
    "fisher_parameters = ['mass_1', 'mass_2', 'luminosity_distance', 'theta_jn', 'dec','ra',\n",
    "                    'psi', 'phase', 'geocent_time']\n",
    "detected, network_snr, parameter_errors, sky_localization = gw.fishermatrix.compute_network_errors(\n",
    "    network = gw.detection.Network(detector_ids = ['LISA'], detection_SNR = (0., 0.)),\n",
    "    parameter_values = parameters,\n",
    "    fisher_parameters=fisher_parameters, \n",
    "    waveform_model = waveform_model,\n",
    "    f_ref = 1e-4,\n",
    "    eps=1e-5,\n",
    "    eps_mass=1e-5,\n",
    "    )   \n",
    "    # use_duty_cycle = False, # default is False anyway\n",
    "save_matrices = True, # default is False anyway, put True if you want Fisher and covariance matrices in the output\n",
    "save_matrices_path = '/home/josecarlos/Desktop/2025/GWFish2025/GWFish/LISA/population', # default is None anyway,\n",
    "                                     # otherwise specify the folder\n",
    "                                     # where to save the Fisher and\n",
    "                                     # corresponding covariance matrices\n",
    "data_folder = '/home/josecarlos/Desktop/2025/GWFish2025/GWFish/LISA/population' \n",
    "network = gw.detection.Network(detector_ids = ['LISA'], detection_SNR = (0., 0.))\n",
    "gw.fishermatrix.analyze_and_save_to_txt(network = network,\n",
    "                                    parameter_values  = parameters,\n",
    "                                    fisher_parameters = fisher_parameters, \n",
    "                                    sub_network_ids_list = [[0]],\n",
    "                                    population_name = f'MBHB_Mtotal100500_q075_1PN',\n",
    "                                    waveform_model = waveform_model,\n",
    "                                    f_ref = 1e-4,\n",
    "                                    save_path = data_folder,\n",
    "                                    save_matrices = True,\n",
    "                                    eps=1e-5,\n",
    "                                    eps_mass=1e-5\n",
    "                                    #decimal_output_format='%.6E'\n",
    "                                    )"
   ]
  },
  {
   "cell_type": "code",
   "execution_count": null,
   "id": "747633b9-7006-4379-9348-27f14a6524c6",
   "metadata": {},
   "outputs": [],
   "source": []
  }
 ],
 "metadata": {
  "kernelspec": {
   "display_name": "Python 3 (ipykernel)",
   "language": "python",
   "name": "python3"
  },
  "language_info": {
   "codemirror_mode": {
    "name": "ipython",
    "version": 3
   },
   "file_extension": ".py",
   "mimetype": "text/x-python",
   "name": "python",
   "nbconvert_exporter": "python",
   "pygments_lexer": "ipython3",
   "version": "3.11.12"
  }
 },
 "nbformat": 4,
 "nbformat_minor": 5
}
